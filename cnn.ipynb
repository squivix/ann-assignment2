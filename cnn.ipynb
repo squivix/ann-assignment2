{
 "cells": [
  {
   "cell_type": "markdown",
   "id": "949d06c1",
   "metadata": {},
   "source": [
    "# Assignment 2 - part 2\n",
    "\n",
    "## Convolutional neural network\n",
    "\n",
    "Use the training and evaluation pipeline developed in part 1 to train and evaluate two CNN models.\n",
    "The first shall be composed of standard convolutional layers, non-linaerities, and pooling layers of your choice. The second shall include skip connections. For this you shall develop your own ResidualBlack as a new layer under the nn.Module super-class. \n",
    "\n",
    "### Train and apply model\n",
    "\n",
    "Train the two models. Try different values of the hyper-paramter settings. You shall achieve at least 93% test accuracy with your best model.\n",
    "\n",
    "Describe briefly your two models and your hyper-parameter setups and comment your results.\n",
    "\n",
    "**Compare the performance of the two models and the three feed forward models using suitable supportive tables and graphs, and complemented by relevant comments.**\n"
   ]
  }
 ],
 "metadata": {
  "kernelspec": {
   "display_name": "Python 3",
   "language": "python",
   "name": "python3"
  },
  "language_info": {
   "codemirror_mode": {
    "name": "ipython",
    "version": 3
   },
   "file_extension": ".py",
   "mimetype": "text/x-python",
   "name": "python",
   "nbconvert_exporter": "python",
   "pygments_lexer": "ipython3",
   "version": "3.9.7"
  }
 },
 "nbformat": 4,
 "nbformat_minor": 5
}
