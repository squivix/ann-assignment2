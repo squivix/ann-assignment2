{
 "cells": [
  {
   "cell_type": "markdown",
   "id": "949d06c1",
   "metadata": {},
   "source": [
    "# Assignment 2 - part 1\n",
    "\n",
    "## Feed forward network (multilayer perceptron)\n",
    "\n",
    "In this assignment you shall develop the complete training and evaluation pipeline for a fully connected feed forward network.\n",
    "This shall cover all the stages discussed in the course, starting from data preparation and finishing with model evaluation.\n",
    "You can (you should) use the full functionality of PyTorch and all its packages.\n",
    "\n",
    "You can write most of your code as standard python scripts and packages outside jupyter notebook.\n",
    "The calls to the functionality shall, however, be executed from this notebook (not command-line).\n",
    "All printouts images and comments should be displayed in this notebook.\n",
    "\n",
    "You shall use this framework to train (at least) 3 feed-forward neural networks and compare their performance:\n",
    "- first, use only linear layers and non-linearites of your choice. You shall decide on the depth and width of the layers as well as all other hyperparameters as you see fit.\n",
    "- second, use linear layers, non-linearities and drop-out\n",
    "- third, use linear layers, non-linearities,  drop-out and batch norm\n"
   ]
  },
  {
   "cell_type": "markdown",
   "id": "6cc59e24",
   "metadata": {},
   "source": [
    "### Model training and evaluation\n",
    "\n",
    "Define the function `mlp_train` for training and evaluating an MLP model for classification of **FashionMNIST** data.\n",
    "The function shall be flexible so that it can take in all necessary hyper-parameters for the training. You shall not fix the hyper-parameters in the code of the function itself as fixed values.\n",
    "\n",
    "The `mlp_train` function shall return \n",
    "* the trained model `mlp_model`\n",
    "* anything else you deem important or useful for monitoring purposes etc. "
   ]
  },
  {
   "cell_type": "code",
   "execution_count": null,
   "id": "a51fe2dc",
   "metadata": {},
   "outputs": [],
   "source": [
    "# define function mlp_train so that it can be run from this cell\n",
    "from xxx import mlp_train\n",
    "\n",
    "# train and evaluate mlp_model\n",
    "mlp_model ... = mlp_train(model, ...)\n",
    "# model: untrained model\n",
    "\n",
    "print(mlp_model)"
   ]
  },
  {
   "cell_type": "markdown",
   "id": "388b64cd",
   "metadata": {},
   "source": [
    "### Model application\n",
    "\n",
    "Define a simple utility function `mlp_apply` that uses the train model to classify 10 examples of the test set and displays the 10 images in a grid together with their true and predicted labels."
   ]
  },
  {
   "cell_type": "code",
   "execution_count": null,
   "id": "decd3420",
   "metadata": {},
   "outputs": [],
   "source": [
    "# define function mlp_train so that it can be run from this cell\n",
    "from xxx import mlp_apply\n",
    "\n",
    "# user parameters\n",
    "test_indexes = [xx, xx, xx, xx, xx, xx, xx, xx, xx, xx]  # list of 10 indexes - examples to extract from test set\n",
    "\n",
    "mlp_apply(mlp_model, test_indexes)"
   ]
  },
  {
   "cell_type": "markdown",
   "id": "fe947cec",
   "metadata": {},
   "source": [
    "### Train and apply model\n",
    "\n",
    "Use your functions defined above to train the three models. Try different values of the hyper-paramter settings. You shall achieve at least 80% test accuracy with all your models and at least 90% test accuracy with the best one.\n",
    "\n",
    "Describe briefly your three models and your hyper-parameter setups and comment your results.\n",
    "\n",
    "**Compare the performance of the three models using suitable supportive tables and graphs, and complemented by relevant comments.**"
   ]
  }
 ],
 "metadata": {
  "kernelspec": {
   "display_name": "Python 3",
   "language": "python",
   "name": "python3"
  },
  "language_info": {
   "codemirror_mode": {
    "name": "ipython",
    "version": 3
   },
   "file_extension": ".py",
   "mimetype": "text/x-python",
   "name": "python",
   "nbconvert_exporter": "python",
   "pygments_lexer": "ipython3",
   "version": "3.9.7"
  }
 },
 "nbformat": 4,
 "nbformat_minor": 5
}
